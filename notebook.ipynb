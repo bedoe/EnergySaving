{
 "cells": [
  {
   "cell_type": "markdown",
   "metadata": {
    "dc": {
     "key": "4"
    },
    "deletable": false,
    "editable": false,
    "run_control": {
     "frozen": true
    },
    "tags": [
     "context"
    ]
   },
   "source": [
    "## Energy saved from recycling\n",
    "<p>Did you know that recycling saves energy by reducing or eliminating the need to make materials from scratch? For example, aluminum can manufacturers can skip the energy-costly process of producing aluminum from ore by cleaning and melting recycled cans. Aluminum is classified as a non-ferrous metal.</p>\n",
    "<p>Singapore has an ambitious goal of becoming a zero-waste nation. The amount of waste disposed of in Singapore has increased seven-fold over the last 40 years. At this rate, Semakau Landfill, Singapore’s only landfill, will run out of space by 2035. Making matters worse, Singapore has limited land for building new incineration plants or landfills.</p>\n",
    "<p>The government would like to motivate citizens by sharing the total energy that the combined recycling efforts have saved every year. They have asked you to help them.</p>\n",
    "<p>You have been provided with three datasets. The data come from different teams, so the names of waste types may differ.</p>\n",
    "<div style=\"background-color: #efebe4; color: #05192d; text-align:left; vertical-align: middle; padding: 15px 25px 15px 25px; line-height: 1.6;\">\n",
    "    <div style=\"font-size:16px\"><b>datasets/wastestats.csv - Recycling statistics per waste type for the period 2003 to 2017</b>\n",
    "    </div>\n",
    "    <div>Source: <a href=\"https://www.nea.gov.sg/our-services/waste-management/waste-statistics-and-overall-recycling\">Singapore National Environment Agency</a></div>\n",
    "<ul>\n",
    "    <li><b>waste_type: </b>The type of waste recycled.</li>\n",
    "    <li><b>waste_disposed_of_tonne: </b>The amount of waste that could not be recycled (in metric tonnes).</li>\n",
    "    <li><b>total_waste_recycle_tonne: </b>The amount of waste that could be recycled (in metric tonnes).</li>\n",
    "    <li><b>total_waste_generated: </b>The total amount of waste collected before recycling (in metric tonnes).</li>\n",
    "    <li><b>recycling_rate: </b>The amount of waste recycled per tonne of waste generated.</li>\n",
    "    <li><b>year: </b>The recycling year.</li>\n",
    "</ul>\n",
    "    </div>\n",
    "<div style=\"background-color: #efebe4; color: #05192d; text-align:left; vertical-align: middle; padding: 15px 25px 15px 25px; line-height: 1.6; margin-top: 17px;\">\n",
    "    <div style=\"font-size:16px\"><b>datasets/2018_2019_waste.csv - Recycling statistics per waste type for the period 2018 to 2019</b>\n",
    "    </div>\n",
    "    <div> Source: <a href=\"https://www.nea.gov.sg/our-services/waste-management/waste-statistics-and-overall-recycling\">Singapore National Environment Agency</a></div>\n",
    "<ul>\n",
    "    <li><b>Waste Type: </b>The type of waste recycled.</li>\n",
    "    <li><b>Total Generated: </b>The total amount of waste collected before recycling (in thousands of metric tonnes).</li> \n",
    "    <li><b>Total Recycled: </b>The amount of waste that could be recycled. (in thousands of metric tonnes).</li>\n",
    "    <li><b>Year: </b>The recycling year.</li>\n",
    "</ul>\n",
    "    </div>\n",
    "<div style=\"background-color: #efebe4; color: #05192d; text-align:left; vertical-align: middle; padding: 15px 25px 15px 25px; line-height: 1.6; margin-top: 17px;\">\n",
    "    <div style=\"font-size:16px\"><b>datasets/energy_saved.csv -  Estimations of the amount of energy saved per waste type in kWh</b>\n",
    "    </div>\n",
    "<ul>\n",
    "    <li><b>material: </b>The type of waste recycled.</li>\n",
    "    <li><b>energy_saved: </b>An estimate of the energy saved (in kiloWatt hour) by recycling a metric tonne of waste.</li> \n",
    "    <li><b>crude_oil_saved: </b>An estimate of the number of barrels of oil saved by recycling a metric tonne of waste.</li>\n",
    "</ul>\n",
    "\n",
    "</div>\n",
    "<pre><code>\n",
    "</code></pre>"
   ]
  },
  {
   "cell_type": "code",
   "execution_count": 1,
   "metadata": {
    "dc": {
     "key": "4"
    }
   },
   "outputs": [],
   "source": [
    "import numpy as np"
   ]
  },
  {
   "cell_type": "code",
   "execution_count": 2,
   "metadata": {
    "dc": {
     "key": "4"
    },
    "tags": [
     "sample_code"
    ]
   },
   "outputs": [],
   "source": [
    "# Use this cell to begin your analysis, and add as many as you would like!\n",
    "import pandas as pd\n",
    "waste_stats = pd.read_csv('datasets/wastestats.csv', usecols=[0,2,5])\n",
    "waste_data_18_19 = pd.read_csv('datasets/2018_2019_waste.csv', usecols=[0,2,3])\n"
   ]
  },
  {
   "cell_type": "code",
   "execution_count": 3,
   "metadata": {
    "dc": {
     "key": "4"
    }
   },
   "outputs": [],
   "source": [
    "energy_saved = pd.read_csv('datasets/energy_saved.csv')"
   ]
  },
  {
   "cell_type": "code",
   "execution_count": 4,
   "metadata": {
    "dc": {
     "key": "4"
    }
   },
   "outputs": [
    {
     "data": {
      "text/html": [
       "<div>\n",
       "<style scoped>\n",
       "    .dataframe tbody tr th:only-of-type {\n",
       "        vertical-align: middle;\n",
       "    }\n",
       "\n",
       "    .dataframe tbody tr th {\n",
       "        vertical-align: top;\n",
       "    }\n",
       "\n",
       "    .dataframe thead th {\n",
       "        text-align: right;\n",
       "    }\n",
       "</style>\n",
       "<table border=\"1\" class=\"dataframe\">\n",
       "  <thead>\n",
       "    <tr style=\"text-align: right;\">\n",
       "      <th></th>\n",
       "      <th>waste_type</th>\n",
       "      <th>total_waste_recycled_tonne</th>\n",
       "      <th>year</th>\n",
       "    </tr>\n",
       "  </thead>\n",
       "  <tbody>\n",
       "    <tr>\n",
       "      <th>0</th>\n",
       "      <td>Food</td>\n",
       "      <td>111100.0</td>\n",
       "      <td>2016</td>\n",
       "    </tr>\n",
       "    <tr>\n",
       "      <th>1</th>\n",
       "      <td>Paper/Cardboard</td>\n",
       "      <td>607100.0</td>\n",
       "      <td>2016</td>\n",
       "    </tr>\n",
       "    <tr>\n",
       "      <th>2</th>\n",
       "      <td>Plastics</td>\n",
       "      <td>59500.0</td>\n",
       "      <td>2016</td>\n",
       "    </tr>\n",
       "    <tr>\n",
       "      <th>3</th>\n",
       "      <td>C&amp;D</td>\n",
       "      <td>1585700.0</td>\n",
       "      <td>2016</td>\n",
       "    </tr>\n",
       "    <tr>\n",
       "      <th>4</th>\n",
       "      <td>Horticultural waste</td>\n",
       "      <td>209000.0</td>\n",
       "      <td>2016</td>\n",
       "    </tr>\n",
       "  </tbody>\n",
       "</table>\n",
       "</div>"
      ],
      "text/plain": [
       "            waste_type  total_waste_recycled_tonne  year\n",
       "0                 Food                    111100.0  2016\n",
       "1      Paper/Cardboard                    607100.0  2016\n",
       "2             Plastics                     59500.0  2016\n",
       "3                  C&D                   1585700.0  2016\n",
       "4  Horticultural waste                    209000.0  2016"
      ]
     },
     "execution_count": 4,
     "metadata": {},
     "output_type": "execute_result"
    }
   ],
   "source": [
    "waste_stats.head()"
   ]
  },
  {
   "cell_type": "code",
   "execution_count": 5,
   "metadata": {
    "dc": {
     "key": "4"
    }
   },
   "outputs": [],
   "source": [
    "cols_needed= ['waste_type','total_waste_recycled_tonne','year']"
   ]
  },
  {
   "cell_type": "code",
   "execution_count": 6,
   "metadata": {
    "dc": {
     "key": "4"
    }
   },
   "outputs": [
    {
     "data": {
      "text/html": [
       "<div>\n",
       "<style scoped>\n",
       "    .dataframe tbody tr th:only-of-type {\n",
       "        vertical-align: middle;\n",
       "    }\n",
       "\n",
       "    .dataframe tbody tr th {\n",
       "        vertical-align: top;\n",
       "    }\n",
       "\n",
       "    .dataframe thead th {\n",
       "        text-align: right;\n",
       "    }\n",
       "</style>\n",
       "<table border=\"1\" class=\"dataframe\">\n",
       "  <thead>\n",
       "    <tr style=\"text-align: right;\">\n",
       "      <th></th>\n",
       "      <th>Waste Type</th>\n",
       "      <th>Total Recycled ('000 tonnes)</th>\n",
       "      <th>Year</th>\n",
       "    </tr>\n",
       "  </thead>\n",
       "  <tbody>\n",
       "    <tr>\n",
       "      <th>0</th>\n",
       "      <td>Construction&amp; Demolition</td>\n",
       "      <td>1434</td>\n",
       "      <td>2019</td>\n",
       "    </tr>\n",
       "    <tr>\n",
       "      <th>1</th>\n",
       "      <td>Ferrous Metal</td>\n",
       "      <td>1270</td>\n",
       "      <td>2019</td>\n",
       "    </tr>\n",
       "    <tr>\n",
       "      <th>2</th>\n",
       "      <td>Paper/Cardboard</td>\n",
       "      <td>449</td>\n",
       "      <td>2019</td>\n",
       "    </tr>\n",
       "    <tr>\n",
       "      <th>3</th>\n",
       "      <td>Plastics</td>\n",
       "      <td>37</td>\n",
       "      <td>2019</td>\n",
       "    </tr>\n",
       "    <tr>\n",
       "      <th>4</th>\n",
       "      <td>Food</td>\n",
       "      <td>136</td>\n",
       "      <td>2019</td>\n",
       "    </tr>\n",
       "  </tbody>\n",
       "</table>\n",
       "</div>"
      ],
      "text/plain": [
       "                 Waste Type  Total Recycled ('000 tonnes)  Year\n",
       "0  Construction& Demolition                          1434  2019\n",
       "1             Ferrous Metal                          1270  2019\n",
       "2           Paper/Cardboard                           449  2019\n",
       "3                  Plastics                            37  2019\n",
       "4                      Food                           136  2019"
      ]
     },
     "execution_count": 6,
     "metadata": {},
     "output_type": "execute_result"
    }
   ],
   "source": [
    "waste_data_18_19.head()"
   ]
  },
  {
   "cell_type": "code",
   "execution_count": 7,
   "metadata": {
    "dc": {
     "key": "4"
    }
   },
   "outputs": [],
   "source": [
    "cols_change = waste_data_18_19.columns.values"
   ]
  },
  {
   "cell_type": "code",
   "execution_count": 8,
   "metadata": {
    "dc": {
     "key": "4"
    }
   },
   "outputs": [
    {
     "data": {
      "text/plain": [
       "{'Waste Type': 'waste_type',\n",
       " \"Total Recycled ('000 tonnes)\": 'total_waste_recycled_tonne',\n",
       " 'Year': 'year'}"
      ]
     },
     "execution_count": 8,
     "metadata": {},
     "output_type": "execute_result"
    }
   ],
   "source": [
    "mapping = dict(zip(cols_change, cols_needed))\n",
    "mapping"
   ]
  },
  {
   "cell_type": "code",
   "execution_count": 9,
   "metadata": {
    "dc": {
     "key": "4"
    }
   },
   "outputs": [],
   "source": [
    "waste_data_18_19.rename(columns=mapping, inplace=True)"
   ]
  },
  {
   "cell_type": "code",
   "execution_count": 10,
   "metadata": {
    "dc": {
     "key": "4"
    }
   },
   "outputs": [
    {
     "data": {
      "text/html": [
       "<div>\n",
       "<style scoped>\n",
       "    .dataframe tbody tr th:only-of-type {\n",
       "        vertical-align: middle;\n",
       "    }\n",
       "\n",
       "    .dataframe tbody tr th {\n",
       "        vertical-align: top;\n",
       "    }\n",
       "\n",
       "    .dataframe thead th {\n",
       "        text-align: right;\n",
       "    }\n",
       "</style>\n",
       "<table border=\"1\" class=\"dataframe\">\n",
       "  <thead>\n",
       "    <tr style=\"text-align: right;\">\n",
       "      <th></th>\n",
       "      <th>waste_type</th>\n",
       "      <th>total_waste_recycled_tonne</th>\n",
       "      <th>year</th>\n",
       "    </tr>\n",
       "  </thead>\n",
       "  <tbody>\n",
       "    <tr>\n",
       "      <th>0</th>\n",
       "      <td>Construction&amp; Demolition</td>\n",
       "      <td>1434</td>\n",
       "      <td>2019</td>\n",
       "    </tr>\n",
       "    <tr>\n",
       "      <th>1</th>\n",
       "      <td>Ferrous Metal</td>\n",
       "      <td>1270</td>\n",
       "      <td>2019</td>\n",
       "    </tr>\n",
       "    <tr>\n",
       "      <th>2</th>\n",
       "      <td>Paper/Cardboard</td>\n",
       "      <td>449</td>\n",
       "      <td>2019</td>\n",
       "    </tr>\n",
       "    <tr>\n",
       "      <th>3</th>\n",
       "      <td>Plastics</td>\n",
       "      <td>37</td>\n",
       "      <td>2019</td>\n",
       "    </tr>\n",
       "    <tr>\n",
       "      <th>4</th>\n",
       "      <td>Food</td>\n",
       "      <td>136</td>\n",
       "      <td>2019</td>\n",
       "    </tr>\n",
       "  </tbody>\n",
       "</table>\n",
       "</div>"
      ],
      "text/plain": [
       "                 waste_type  total_waste_recycled_tonne  year\n",
       "0  Construction& Demolition                        1434  2019\n",
       "1             Ferrous Metal                        1270  2019\n",
       "2           Paper/Cardboard                         449  2019\n",
       "3                  Plastics                          37  2019\n",
       "4                      Food                         136  2019"
      ]
     },
     "execution_count": 10,
     "metadata": {},
     "output_type": "execute_result"
    }
   ],
   "source": [
    "waste_data_18_19.head()"
   ]
  },
  {
   "cell_type": "code",
   "execution_count": 11,
   "metadata": {
    "dc": {
     "key": "4"
    }
   },
   "outputs": [],
   "source": [
    "waste_data_18_19['total_waste_recycled_tonne'] = waste_data_18_19.total_waste_recycled_tonne*1000"
   ]
  },
  {
   "cell_type": "code",
   "execution_count": 12,
   "metadata": {
    "dc": {
     "key": "4"
    }
   },
   "outputs": [],
   "source": [
    "waste_stats_all = waste_stats.append(waste_data_18_19)"
   ]
  },
  {
   "cell_type": "code",
   "execution_count": 13,
   "metadata": {
    "dc": {
     "key": "4"
    }
   },
   "outputs": [
    {
     "data": {
      "text/plain": [
       "waste_type                    0\n",
       "total_waste_recycled_tonne    0\n",
       "year                          0\n",
       "dtype: int64"
      ]
     },
     "execution_count": 13,
     "metadata": {},
     "output_type": "execute_result"
    }
   ],
   "source": [
    "waste_stats_all.isna().sum()"
   ]
  },
  {
   "cell_type": "code",
   "execution_count": 14,
   "metadata": {
    "dc": {
     "key": "4"
    }
   },
   "outputs": [],
   "source": [
    "waste_stats_all['waste_type'] = waste_stats_all['waste_type'].astype('category')"
   ]
  },
  {
   "cell_type": "code",
   "execution_count": 15,
   "metadata": {
    "dc": {
     "key": "4"
    }
   },
   "outputs": [
    {
     "data": {
      "text/html": [
       "<div>\n",
       "<style scoped>\n",
       "    .dataframe tbody tr th:only-of-type {\n",
       "        vertical-align: middle;\n",
       "    }\n",
       "\n",
       "    .dataframe tbody tr th {\n",
       "        vertical-align: top;\n",
       "    }\n",
       "\n",
       "    .dataframe thead th {\n",
       "        text-align: right;\n",
       "    }\n",
       "</style>\n",
       "<table border=\"1\" class=\"dataframe\">\n",
       "  <thead>\n",
       "    <tr style=\"text-align: right;\">\n",
       "      <th></th>\n",
       "      <th>The table gives the amount of energy saved in kilowatt hour (kWh) and the amount of crude oil (barrels) by recycling 1 metric tonne (1000 kilogram)  per waste type</th>\n",
       "      <th>Unnamed: 1</th>\n",
       "      <th>Unnamed: 2</th>\n",
       "      <th>Unnamed: 3</th>\n",
       "      <th>Unnamed: 4</th>\n",
       "      <th>Unnamed: 5</th>\n",
       "    </tr>\n",
       "  </thead>\n",
       "  <tbody>\n",
       "    <tr>\n",
       "      <th>0</th>\n",
       "      <td>1 barrel oil is approximately 159 litres of oil</td>\n",
       "      <td>NaN</td>\n",
       "      <td>NaN</td>\n",
       "      <td>NaN</td>\n",
       "      <td>NaN</td>\n",
       "      <td>NaN</td>\n",
       "    </tr>\n",
       "    <tr>\n",
       "      <th>1</th>\n",
       "      <td>NaN</td>\n",
       "      <td>NaN</td>\n",
       "      <td>NaN</td>\n",
       "      <td>NaN</td>\n",
       "      <td>NaN</td>\n",
       "      <td>NaN</td>\n",
       "    </tr>\n",
       "    <tr>\n",
       "      <th>2</th>\n",
       "      <td>material</td>\n",
       "      <td>Plastic</td>\n",
       "      <td>Glass</td>\n",
       "      <td>Ferrous Metal</td>\n",
       "      <td>Non-Ferrous Metal</td>\n",
       "      <td>Paper</td>\n",
       "    </tr>\n",
       "    <tr>\n",
       "      <th>3</th>\n",
       "      <td>energy_saved</td>\n",
       "      <td>5774 Kwh</td>\n",
       "      <td>42 Kwh</td>\n",
       "      <td>642 Kwh</td>\n",
       "      <td>14000 Kwh</td>\n",
       "      <td>4000 kWh</td>\n",
       "    </tr>\n",
       "    <tr>\n",
       "      <th>4</th>\n",
       "      <td>crude_oil saved</td>\n",
       "      <td>16 barrels</td>\n",
       "      <td>NaN</td>\n",
       "      <td>1.8 barrels</td>\n",
       "      <td>40 barrels</td>\n",
       "      <td>1.7 barrels</td>\n",
       "    </tr>\n",
       "  </tbody>\n",
       "</table>\n",
       "</div>"
      ],
      "text/plain": [
       "  The table gives the amount of energy saved in kilowatt hour (kWh) and the amount of crude oil (barrels) by recycling 1 metric tonne (1000 kilogram)  per waste type  \\\n",
       "0    1 barrel oil is approximately 159 litres of oil                                                                                                                    \n",
       "1                                                NaN                                                                                                                    \n",
       "2                                           material                                                                                                                    \n",
       "3                                       energy_saved                                                                                                                    \n",
       "4                                    crude_oil saved                                                                                                                    \n",
       "\n",
       "   Unnamed: 1 Unnamed: 2     Unnamed: 3         Unnamed: 4   Unnamed: 5  \n",
       "0         NaN        NaN            NaN                NaN          NaN  \n",
       "1         NaN        NaN            NaN                NaN          NaN  \n",
       "2     Plastic      Glass  Ferrous Metal  Non-Ferrous Metal        Paper  \n",
       "3    5774 Kwh     42 Kwh        642 Kwh          14000 Kwh     4000 kWh  \n",
       "4  16 barrels        NaN    1.8 barrels         40 barrels  1.7 barrels  "
      ]
     },
     "execution_count": 15,
     "metadata": {},
     "output_type": "execute_result"
    }
   ],
   "source": [
    "energy_saved.head()"
   ]
  },
  {
   "cell_type": "code",
   "execution_count": 16,
   "metadata": {
    "dc": {
     "key": "4"
    }
   },
   "outputs": [
    {
     "data": {
      "text/plain": [
       "array(['Plastic', 'Glass', 'Ferrous Metal', 'Non-Ferrous Metal'],\n",
       "      dtype=object)"
      ]
     },
     "execution_count": 16,
     "metadata": {},
     "output_type": "execute_result"
    }
   ],
   "source": [
    "materials = energy_saved.iloc[2, 1:-1].values\n",
    "materials"
   ]
  },
  {
   "cell_type": "code",
   "execution_count": 17,
   "metadata": {
    "dc": {
     "key": "4"
    }
   },
   "outputs": [
    {
     "data": {
      "text/html": [
       "<div>\n",
       "<style scoped>\n",
       "    .dataframe tbody tr th:only-of-type {\n",
       "        vertical-align: middle;\n",
       "    }\n",
       "\n",
       "    .dataframe tbody tr th {\n",
       "        vertical-align: top;\n",
       "    }\n",
       "\n",
       "    .dataframe thead th {\n",
       "        text-align: right;\n",
       "    }\n",
       "</style>\n",
       "<table border=\"1\" class=\"dataframe\">\n",
       "  <thead>\n",
       "    <tr style=\"text-align: right;\">\n",
       "      <th></th>\n",
       "      <th>waste_type</th>\n",
       "      <th>total_waste_recycled_tonne</th>\n",
       "      <th>year</th>\n",
       "    </tr>\n",
       "  </thead>\n",
       "  <tbody>\n",
       "    <tr>\n",
       "      <th>10</th>\n",
       "      <td>Glass</td>\n",
       "      <td>14700.0</td>\n",
       "      <td>2016</td>\n",
       "    </tr>\n",
       "    <tr>\n",
       "      <th>25</th>\n",
       "      <td>Glass</td>\n",
       "      <td>14600.0</td>\n",
       "      <td>2015</td>\n",
       "    </tr>\n",
       "    <tr>\n",
       "      <th>40</th>\n",
       "      <td>Glass</td>\n",
       "      <td>15700.0</td>\n",
       "      <td>2014</td>\n",
       "    </tr>\n",
       "    <tr>\n",
       "      <th>51</th>\n",
       "      <td>Ferrous Metal</td>\n",
       "      <td>1369200.0</td>\n",
       "      <td>2013</td>\n",
       "    </tr>\n",
       "    <tr>\n",
       "      <th>55</th>\n",
       "      <td>Glass</td>\n",
       "      <td>14600.0</td>\n",
       "      <td>2013</td>\n",
       "    </tr>\n",
       "  </tbody>\n",
       "</table>\n",
       "</div>"
      ],
      "text/plain": [
       "       waste_type  total_waste_recycled_tonne  year\n",
       "10          Glass                     14700.0  2016\n",
       "25          Glass                     14600.0  2015\n",
       "40          Glass                     15700.0  2014\n",
       "51  Ferrous Metal                   1369200.0  2013\n",
       "55          Glass                     14600.0  2013"
      ]
     },
     "execution_count": 17,
     "metadata": {},
     "output_type": "execute_result"
    }
   ],
   "source": [
    "waste_stats_all[waste_stats_all['waste_type'].isin(materials)].head()"
   ]
  },
  {
   "cell_type": "code",
   "execution_count": 18,
   "metadata": {
    "dc": {
     "key": "4"
    }
   },
   "outputs": [
    {
     "data": {
      "text/plain": [
       "['Food', 'Paper/Cardboard', 'Plastics', 'C&D', 'Horticultural waste', ..., 'Construction& Demolition', 'Horticultural', 'Non-Ferrous Metal', 'Others (stones, ceramic, rubber, ect)', 'Overall']\n",
       "Length: 37\n",
       "Categories (37, object): ['Ash & Sludge', 'Ash and sludge', 'C&D', 'Construction Debris', ..., 'Used Slag', 'Used slag', 'Wood', 'Wood/Timber']"
      ]
     },
     "execution_count": 18,
     "metadata": {},
     "output_type": "execute_result"
    }
   ],
   "source": [
    "waste_stats_all.waste_type.unique()"
   ]
  },
  {
   "cell_type": "code",
   "execution_count": 19,
   "metadata": {
    "dc": {
     "key": "4"
    }
   },
   "outputs": [],
   "source": [
    "waste_stats_all['waste_type']=waste_stats_all['waste_type'].apply(lambda x:x.lower().title())"
   ]
  },
  {
   "cell_type": "code",
   "execution_count": 20,
   "metadata": {
    "dc": {
     "key": "4"
    }
   },
   "outputs": [
    {
     "data": {
      "text/plain": [
       "array(['Food', 'Paper/Cardboard', 'Plastics', 'C&D',\n",
       "       'Horticultural Waste', 'Wood', 'Ferrous Metal',\n",
       "       'Non-Ferrous Metal', 'Used Slag', 'Ash & Sludge', 'Glass',\n",
       "       'Textile/Leather', 'Scrap Tyres',\n",
       "       'Others (Stones, Ceramics & Rubber Etc.)', 'Total',\n",
       "       'Others (Stones, Ceramics & Rubber Etc)', 'Food Waste',\n",
       "       'Construction Debris', 'Wood/Timber', 'Non-Ferrous Metals',\n",
       "       'Sludge', 'Ferrous Metals', 'Others', 'Ash And Sludge', 'Plastic',\n",
       "       'Others (Stones, Ceramic, Rubber, Etc.)',\n",
       "       'Construction& Demolition', 'Horticultural',\n",
       "       'Others (Stones, Ceramic, Rubber, Ect)', 'Overall'], dtype=object)"
      ]
     },
     "execution_count": 20,
     "metadata": {},
     "output_type": "execute_result"
    }
   ],
   "source": [
    "waste_stats_all.waste_type.unique()"
   ]
  },
  {
   "cell_type": "code",
   "execution_count": 21,
   "metadata": {
    "dc": {
     "key": "4"
    }
   },
   "outputs": [],
   "source": [
    "name_changes = {\n",
    "    'Plastics':'Plastic',\n",
    "    'Ferrous Metals':'Ferrous Metal',\n",
    "    'Non-Ferrous Metals':'Non-Ferrous Metal'\n",
    "}"
   ]
  },
  {
   "cell_type": "code",
   "execution_count": 22,
   "metadata": {
    "dc": {
     "key": "4"
    }
   },
   "outputs": [],
   "source": [
    "waste_stats_all['waste_type']=waste_stats_all.waste_type.replace(name_changes)"
   ]
  },
  {
   "cell_type": "code",
   "execution_count": 23,
   "metadata": {
    "dc": {
     "key": "4"
    }
   },
   "outputs": [
    {
     "data": {
      "text/plain": [
       "array(['Food', 'Paper/Cardboard', 'Plastic', 'C&D', 'Horticultural Waste',\n",
       "       'Wood', 'Ferrous Metal', 'Non-Ferrous Metal', 'Used Slag',\n",
       "       'Ash & Sludge', 'Glass', 'Textile/Leather', 'Scrap Tyres',\n",
       "       'Others (Stones, Ceramics & Rubber Etc.)', 'Total',\n",
       "       'Others (Stones, Ceramics & Rubber Etc)', 'Food Waste',\n",
       "       'Construction Debris', 'Wood/Timber', 'Sludge', 'Others',\n",
       "       'Ash And Sludge', 'Others (Stones, Ceramic, Rubber, Etc.)',\n",
       "       'Construction& Demolition', 'Horticultural',\n",
       "       'Others (Stones, Ceramic, Rubber, Ect)', 'Overall'], dtype=object)"
      ]
     },
     "execution_count": 23,
     "metadata": {},
     "output_type": "execute_result"
    }
   ],
   "source": [
    "waste_stats_all.waste_type.unique()"
   ]
  },
  {
   "cell_type": "code",
   "execution_count": 24,
   "metadata": {
    "dc": {
     "key": "4"
    }
   },
   "outputs": [
    {
     "data": {
      "text/plain": [
       "array(['5774 Kwh', '42 Kwh', '642 Kwh', '14000 Kwh'], dtype=object)"
      ]
     },
     "execution_count": 24,
     "metadata": {},
     "output_type": "execute_result"
    }
   ],
   "source": [
    "energy_values = energy_saved.iloc[3, 1:-1].values\n",
    "energy_values"
   ]
  },
  {
   "cell_type": "code",
   "execution_count": 25,
   "metadata": {
    "dc": {
     "key": "4"
    }
   },
   "outputs": [
    {
     "data": {
      "text/plain": [
       "['5774', '42', '642', '14000']"
      ]
     },
     "execution_count": 25,
     "metadata": {},
     "output_type": "execute_result"
    }
   ],
   "source": [
    "l = []\n",
    "for x in energy_values:\n",
    "    l.append(x[:-4])\n",
    "    \n",
    "l"
   ]
  },
  {
   "cell_type": "code",
   "execution_count": 26,
   "metadata": {
    "dc": {
     "key": "4"
    }
   },
   "outputs": [
    {
     "data": {
      "text/html": [
       "<div>\n",
       "<style scoped>\n",
       "    .dataframe tbody tr th:only-of-type {\n",
       "        vertical-align: middle;\n",
       "    }\n",
       "\n",
       "    .dataframe tbody tr th {\n",
       "        vertical-align: top;\n",
       "    }\n",
       "\n",
       "    .dataframe thead th {\n",
       "        text-align: right;\n",
       "    }\n",
       "</style>\n",
       "<table border=\"1\" class=\"dataframe\">\n",
       "  <thead>\n",
       "    <tr style=\"text-align: right;\">\n",
       "      <th></th>\n",
       "      <th>material</th>\n",
       "      <th>energy_saved_tonne</th>\n",
       "    </tr>\n",
       "  </thead>\n",
       "  <tbody>\n",
       "    <tr>\n",
       "      <th>0</th>\n",
       "      <td>Plastic</td>\n",
       "      <td>5774</td>\n",
       "    </tr>\n",
       "    <tr>\n",
       "      <th>1</th>\n",
       "      <td>Glass</td>\n",
       "      <td>42</td>\n",
       "    </tr>\n",
       "    <tr>\n",
       "      <th>2</th>\n",
       "      <td>Ferrous Metal</td>\n",
       "      <td>642</td>\n",
       "    </tr>\n",
       "    <tr>\n",
       "      <th>3</th>\n",
       "      <td>Non-Ferrous Metal</td>\n",
       "      <td>14000</td>\n",
       "    </tr>\n",
       "  </tbody>\n",
       "</table>\n",
       "</div>"
      ],
      "text/plain": [
       "            material energy_saved_tonne\n",
       "0            Plastic               5774\n",
       "1              Glass                 42\n",
       "2      Ferrous Metal                642\n",
       "3  Non-Ferrous Metal              14000"
      ]
     },
     "execution_count": 26,
     "metadata": {},
     "output_type": "execute_result"
    }
   ],
   "source": [
    "energy_savings = pd.DataFrame({'material': materials,'energy_saved_tonne':l })\n",
    "energy_savings"
   ]
  },
  {
   "cell_type": "code",
   "execution_count": 27,
   "metadata": {
    "dc": {
     "key": "4"
    }
   },
   "outputs": [],
   "source": [
    "recycle_energy = waste_stats_all.merge(energy_savings, how='right', left_on='waste_type', right_on='material')"
   ]
  },
  {
   "cell_type": "code",
   "execution_count": 28,
   "metadata": {
    "dc": {
     "key": "4"
    }
   },
   "outputs": [
    {
     "data": {
      "text/html": [
       "<div>\n",
       "<style scoped>\n",
       "    .dataframe tbody tr th:only-of-type {\n",
       "        vertical-align: middle;\n",
       "    }\n",
       "\n",
       "    .dataframe tbody tr th {\n",
       "        vertical-align: top;\n",
       "    }\n",
       "\n",
       "    .dataframe thead th {\n",
       "        text-align: right;\n",
       "    }\n",
       "</style>\n",
       "<table border=\"1\" class=\"dataframe\">\n",
       "  <thead>\n",
       "    <tr style=\"text-align: right;\">\n",
       "      <th></th>\n",
       "      <th>waste_type</th>\n",
       "      <th>total_waste_recycled_tonne</th>\n",
       "      <th>year</th>\n",
       "      <th>material</th>\n",
       "      <th>energy_saved_tonne</th>\n",
       "    </tr>\n",
       "  </thead>\n",
       "  <tbody>\n",
       "    <tr>\n",
       "      <th>0</th>\n",
       "      <td>Plastic</td>\n",
       "      <td>59500.0</td>\n",
       "      <td>2016</td>\n",
       "      <td>Plastic</td>\n",
       "      <td>5774</td>\n",
       "    </tr>\n",
       "    <tr>\n",
       "      <th>1</th>\n",
       "      <td>Plastic</td>\n",
       "      <td>57800.0</td>\n",
       "      <td>2015</td>\n",
       "      <td>Plastic</td>\n",
       "      <td>5774</td>\n",
       "    </tr>\n",
       "    <tr>\n",
       "      <th>2</th>\n",
       "      <td>Plastic</td>\n",
       "      <td>80000.0</td>\n",
       "      <td>2014</td>\n",
       "      <td>Plastic</td>\n",
       "      <td>5774</td>\n",
       "    </tr>\n",
       "    <tr>\n",
       "      <th>3</th>\n",
       "      <td>Plastic</td>\n",
       "      <td>91100.0</td>\n",
       "      <td>2013</td>\n",
       "      <td>Plastic</td>\n",
       "      <td>5774</td>\n",
       "    </tr>\n",
       "    <tr>\n",
       "      <th>4</th>\n",
       "      <td>Plastic</td>\n",
       "      <td>82100.0</td>\n",
       "      <td>2012</td>\n",
       "      <td>Plastic</td>\n",
       "      <td>5774</td>\n",
       "    </tr>\n",
       "  </tbody>\n",
       "</table>\n",
       "</div>"
      ],
      "text/plain": [
       "  waste_type  total_waste_recycled_tonne  year material energy_saved_tonne\n",
       "0    Plastic                     59500.0  2016  Plastic               5774\n",
       "1    Plastic                     57800.0  2015  Plastic               5774\n",
       "2    Plastic                     80000.0  2014  Plastic               5774\n",
       "3    Plastic                     91100.0  2013  Plastic               5774\n",
       "4    Plastic                     82100.0  2012  Plastic               5774"
      ]
     },
     "execution_count": 28,
     "metadata": {},
     "output_type": "execute_result"
    }
   ],
   "source": [
    "recycle_energy.head()"
   ]
  },
  {
   "cell_type": "code",
   "execution_count": 29,
   "metadata": {
    "dc": {
     "key": "4"
    }
   },
   "outputs": [],
   "source": [
    "recycle_energy['energy_saved_tonne'] = recycle_energy['energy_saved_tonne'].astype('int')"
   ]
  },
  {
   "cell_type": "code",
   "execution_count": 30,
   "metadata": {
    "dc": {
     "key": "4"
    }
   },
   "outputs": [
    {
     "data": {
      "text/plain": [
       "array([2016, 2015, 2017, 2019, 2018])"
      ]
     },
     "execution_count": 30,
     "metadata": {},
     "output_type": "execute_result"
    }
   ],
   "source": [
    "years_needed = list(range(2015, 2020))\n",
    "recycle_energy = recycle_energy[recycle_energy.year.isin(years_needed)]\n",
    "recycle_energy.year.unique()"
   ]
  },
  {
   "cell_type": "code",
   "execution_count": 31,
   "metadata": {
    "dc": {
     "key": "4"
    }
   },
   "outputs": [
    {
     "data": {
      "text/html": [
       "<div>\n",
       "<style scoped>\n",
       "    .dataframe tbody tr th:only-of-type {\n",
       "        vertical-align: middle;\n",
       "    }\n",
       "\n",
       "    .dataframe tbody tr th {\n",
       "        vertical-align: top;\n",
       "    }\n",
       "\n",
       "    .dataframe thead th {\n",
       "        text-align: right;\n",
       "    }\n",
       "</style>\n",
       "<table border=\"1\" class=\"dataframe\">\n",
       "  <thead>\n",
       "    <tr style=\"text-align: right;\">\n",
       "      <th></th>\n",
       "      <th>waste_type</th>\n",
       "      <th>total_waste_recycled_tonne</th>\n",
       "      <th>year</th>\n",
       "      <th>material</th>\n",
       "      <th>energy_saved_tonne</th>\n",
       "    </tr>\n",
       "  </thead>\n",
       "  <tbody>\n",
       "    <tr>\n",
       "      <th>1</th>\n",
       "      <td>Plastic</td>\n",
       "      <td>57800.0</td>\n",
       "      <td>2015</td>\n",
       "      <td>Plastic</td>\n",
       "      <td>5774</td>\n",
       "    </tr>\n",
       "    <tr>\n",
       "      <th>52</th>\n",
       "      <td>Non-Ferrous Metal</td>\n",
       "      <td>160400.0</td>\n",
       "      <td>2015</td>\n",
       "      <td>Non-Ferrous Metal</td>\n",
       "      <td>14000</td>\n",
       "    </tr>\n",
       "    <tr>\n",
       "      <th>18</th>\n",
       "      <td>Glass</td>\n",
       "      <td>14600.0</td>\n",
       "      <td>2015</td>\n",
       "      <td>Glass</td>\n",
       "      <td>42</td>\n",
       "    </tr>\n",
       "    <tr>\n",
       "      <th>35</th>\n",
       "      <td>Ferrous Metal</td>\n",
       "      <td>1333300.0</td>\n",
       "      <td>2015</td>\n",
       "      <td>Ferrous Metal</td>\n",
       "      <td>642</td>\n",
       "    </tr>\n",
       "    <tr>\n",
       "      <th>0</th>\n",
       "      <td>Plastic</td>\n",
       "      <td>59500.0</td>\n",
       "      <td>2016</td>\n",
       "      <td>Plastic</td>\n",
       "      <td>5774</td>\n",
       "    </tr>\n",
       "  </tbody>\n",
       "</table>\n",
       "</div>"
      ],
      "text/plain": [
       "           waste_type  total_waste_recycled_tonne  year           material  \\\n",
       "1             Plastic                     57800.0  2015            Plastic   \n",
       "52  Non-Ferrous Metal                    160400.0  2015  Non-Ferrous Metal   \n",
       "18              Glass                     14600.0  2015              Glass   \n",
       "35      Ferrous Metal                   1333300.0  2015      Ferrous Metal   \n",
       "0             Plastic                     59500.0  2016            Plastic   \n",
       "\n",
       "    energy_saved_tonne  \n",
       "1                 5774  \n",
       "52               14000  \n",
       "18                  42  \n",
       "35                 642  \n",
       "0                 5774  "
      ]
     },
     "execution_count": 31,
     "metadata": {},
     "output_type": "execute_result"
    }
   ],
   "source": [
    "recycle_energy.sort_values('year', inplace=True)\n",
    "recycle_energy.head()"
   ]
  },
  {
   "cell_type": "code",
   "execution_count": 32,
   "metadata": {
    "dc": {
     "key": "4"
    }
   },
   "outputs": [],
   "source": [
    "recycle_energy['energy_saved_total'] = recycle_energy.total_waste_recycled_tonne * recycle_energy.energy_saved_tonne"
   ]
  },
  {
   "cell_type": "code",
   "execution_count": 33,
   "metadata": {
    "dc": {
     "key": "4"
    }
   },
   "outputs": [
    {
     "data": {
      "text/html": [
       "<div>\n",
       "<style scoped>\n",
       "    .dataframe tbody tr th:only-of-type {\n",
       "        vertical-align: middle;\n",
       "    }\n",
       "\n",
       "    .dataframe tbody tr th {\n",
       "        vertical-align: top;\n",
       "    }\n",
       "\n",
       "    .dataframe thead th {\n",
       "        text-align: right;\n",
       "    }\n",
       "</style>\n",
       "<table border=\"1\" class=\"dataframe\">\n",
       "  <thead>\n",
       "    <tr style=\"text-align: right;\">\n",
       "      <th></th>\n",
       "      <th>waste_type</th>\n",
       "      <th>total_waste_recycled_tonne</th>\n",
       "      <th>year</th>\n",
       "      <th>material</th>\n",
       "      <th>energy_saved_tonne</th>\n",
       "      <th>energy_saved_total</th>\n",
       "    </tr>\n",
       "  </thead>\n",
       "  <tbody>\n",
       "    <tr>\n",
       "      <th>1</th>\n",
       "      <td>Plastic</td>\n",
       "      <td>57800.0</td>\n",
       "      <td>2015</td>\n",
       "      <td>Plastic</td>\n",
       "      <td>5774</td>\n",
       "      <td>3.337372e+08</td>\n",
       "    </tr>\n",
       "    <tr>\n",
       "      <th>52</th>\n",
       "      <td>Non-Ferrous Metal</td>\n",
       "      <td>160400.0</td>\n",
       "      <td>2015</td>\n",
       "      <td>Non-Ferrous Metal</td>\n",
       "      <td>14000</td>\n",
       "      <td>2.245600e+09</td>\n",
       "    </tr>\n",
       "    <tr>\n",
       "      <th>18</th>\n",
       "      <td>Glass</td>\n",
       "      <td>14600.0</td>\n",
       "      <td>2015</td>\n",
       "      <td>Glass</td>\n",
       "      <td>42</td>\n",
       "      <td>6.132000e+05</td>\n",
       "    </tr>\n",
       "    <tr>\n",
       "      <th>35</th>\n",
       "      <td>Ferrous Metal</td>\n",
       "      <td>1333300.0</td>\n",
       "      <td>2015</td>\n",
       "      <td>Ferrous Metal</td>\n",
       "      <td>642</td>\n",
       "      <td>8.559786e+08</td>\n",
       "    </tr>\n",
       "    <tr>\n",
       "      <th>0</th>\n",
       "      <td>Plastic</td>\n",
       "      <td>59500.0</td>\n",
       "      <td>2016</td>\n",
       "      <td>Plastic</td>\n",
       "      <td>5774</td>\n",
       "      <td>3.435530e+08</td>\n",
       "    </tr>\n",
       "  </tbody>\n",
       "</table>\n",
       "</div>"
      ],
      "text/plain": [
       "           waste_type  total_waste_recycled_tonne  year           material  \\\n",
       "1             Plastic                     57800.0  2015            Plastic   \n",
       "52  Non-Ferrous Metal                    160400.0  2015  Non-Ferrous Metal   \n",
       "18              Glass                     14600.0  2015              Glass   \n",
       "35      Ferrous Metal                   1333300.0  2015      Ferrous Metal   \n",
       "0             Plastic                     59500.0  2016            Plastic   \n",
       "\n",
       "    energy_saved_tonne  energy_saved_total  \n",
       "1                 5774        3.337372e+08  \n",
       "52               14000        2.245600e+09  \n",
       "18                  42        6.132000e+05  \n",
       "35                 642        8.559786e+08  \n",
       "0                 5774        3.435530e+08  "
      ]
     },
     "execution_count": 33,
     "metadata": {},
     "output_type": "execute_result"
    }
   ],
   "source": [
    "recycle_energy.head()"
   ]
  },
  {
   "cell_type": "code",
   "execution_count": 34,
   "metadata": {
    "dc": {
     "key": "4"
    }
   },
   "outputs": [
    {
     "data": {
      "text/plain": [
       "array([ 5774, 14000,    42,   642])"
      ]
     },
     "execution_count": 34,
     "metadata": {},
     "output_type": "execute_result"
    }
   ],
   "source": [
    "recycle_energy.energy_saved_tonne.unique()"
   ]
  },
  {
   "cell_type": "code",
   "execution_count": 35,
   "metadata": {
    "dc": {
     "key": "4"
    }
   },
   "outputs": [
    {
     "data": {
      "text/plain": [
       "waste_type                     object\n",
       "total_waste_recycled_tonne    float64\n",
       "year                            int64\n",
       "material                       object\n",
       "energy_saved_tonne              int64\n",
       "energy_saved_total            float64\n",
       "dtype: object"
      ]
     },
     "execution_count": 35,
     "metadata": {},
     "output_type": "execute_result"
    }
   ],
   "source": [
    "recycle_energy.dtypes"
   ]
  },
  {
   "cell_type": "code",
   "execution_count": 36,
   "metadata": {
    "dc": {
     "key": "4"
    }
   },
   "outputs": [],
   "source": [
    "total_year = recycle_energy.groupby('year')['energy_saved_total'].sum().values"
   ]
  },
  {
   "cell_type": "code",
   "execution_count": 37,
   "metadata": {
    "dc": {
     "key": "4"
    }
   },
   "outputs": [
    {
     "data": {
      "text/plain": [
       "array([3.4359290e+09, 2.5544334e+09, 2.4705960e+09, 2.6981300e+09,\n",
       "       2.7654400e+09])"
      ]
     },
     "execution_count": 37,
     "metadata": {},
     "output_type": "execute_result"
    }
   ],
   "source": [
    "total_year"
   ]
  },
  {
   "cell_type": "code",
   "execution_count": 38,
   "metadata": {
    "dc": {
     "key": "4"
    }
   },
   "outputs": [],
   "source": [
    "annual_energy_savings = pd.DataFrame({'year':years_needed,'total_energy_saved': total_year})\n",
    "annual_energy_savings.set_index('year', inplace=True)"
   ]
  },
  {
   "cell_type": "code",
   "execution_count": 39,
   "metadata": {
    "dc": {
     "key": "4"
    }
   },
   "outputs": [
    {
     "data": {
      "text/html": [
       "<div>\n",
       "<style scoped>\n",
       "    .dataframe tbody tr th:only-of-type {\n",
       "        vertical-align: middle;\n",
       "    }\n",
       "\n",
       "    .dataframe tbody tr th {\n",
       "        vertical-align: top;\n",
       "    }\n",
       "\n",
       "    .dataframe thead th {\n",
       "        text-align: right;\n",
       "    }\n",
       "</style>\n",
       "<table border=\"1\" class=\"dataframe\">\n",
       "  <thead>\n",
       "    <tr style=\"text-align: right;\">\n",
       "      <th></th>\n",
       "      <th>total_energy_saved</th>\n",
       "    </tr>\n",
       "    <tr>\n",
       "      <th>year</th>\n",
       "      <th></th>\n",
       "    </tr>\n",
       "  </thead>\n",
       "  <tbody>\n",
       "    <tr>\n",
       "      <th>2015</th>\n",
       "      <td>3.435929e+09</td>\n",
       "    </tr>\n",
       "    <tr>\n",
       "      <th>2016</th>\n",
       "      <td>2.554433e+09</td>\n",
       "    </tr>\n",
       "    <tr>\n",
       "      <th>2017</th>\n",
       "      <td>2.470596e+09</td>\n",
       "    </tr>\n",
       "    <tr>\n",
       "      <th>2018</th>\n",
       "      <td>2.698130e+09</td>\n",
       "    </tr>\n",
       "    <tr>\n",
       "      <th>2019</th>\n",
       "      <td>2.765440e+09</td>\n",
       "    </tr>\n",
       "  </tbody>\n",
       "</table>\n",
       "</div>"
      ],
      "text/plain": [
       "      total_energy_saved\n",
       "year                    \n",
       "2015        3.435929e+09\n",
       "2016        2.554433e+09\n",
       "2017        2.470596e+09\n",
       "2018        2.698130e+09\n",
       "2019        2.765440e+09"
      ]
     },
     "execution_count": 39,
     "metadata": {},
     "output_type": "execute_result"
    }
   ],
   "source": [
    "annual_energy_savings"
   ]
  },
  {
   "cell_type": "markdown",
   "metadata": {},
   "source": [
    "### Visualisation of Recycling from 2015 to 2019"
   ]
  },
  {
   "cell_type": "code",
   "execution_count": 40,
   "metadata": {},
   "outputs": [],
   "source": [
    "import matplotlib.pyplot as plt"
   ]
  },
  {
   "cell_type": "code",
   "execution_count": 41,
   "metadata": {},
   "outputs": [],
   "source": [
    "plt.style.use('ggplot')"
   ]
  },
  {
   "cell_type": "code",
   "execution_count": 95,
   "metadata": {},
   "outputs": [
    {
     "data": {
      "image/png": "[encoded data removed]",
      "text/plain": [
       "<Figure size 432x288 with 1 Axes>"
      ]
     },
     "metadata": {},
     "output_type": "display_data"
    }
   ],
   "source": [
    "plt.plot(annual_energy_savings, marker='o')\n",
    "plt.xticks(years_needed)\n",
    "plt.xlabel('Year')\n",
    "plt.ylabel('Energy Saved (Kwh x 10^9)')\n",
    "mean_savings = annual_energy_savings.mean().to_numpy()[0]\n",
    "line=plt.axhline(mean_savings, linestyle='--', color='darkblue')\n",
    "plt.annotate(f'Mean = {mean_savings}', (2017, annual_energy_savings.mean()*1.01))\n",
    "plt.show()"
   ]
  },
  {
   "cell_type": "markdown",
   "metadata": {},
   "source": [
    "### How was recycling in 2015?"
   ]
  },
  {
   "cell_type": "code",
   "execution_count": 43,
   "metadata": {},
   "outputs": [],
   "source": [
    "recycle_energy_2015 = recycle_energy[recycle_energy.year==2015]"
   ]
  },
  {
   "cell_type": "code",
   "execution_count": 44,
   "metadata": {},
   "outputs": [
    {
     "data": {
      "text/html": [
       "<div>\n",
       "<style scoped>\n",
       "    .dataframe tbody tr th:only-of-type {\n",
       "        vertical-align: middle;\n",
       "    }\n",
       "\n",
       "    .dataframe tbody tr th {\n",
       "        vertical-align: top;\n",
       "    }\n",
       "\n",
       "    .dataframe thead th {\n",
       "        text-align: right;\n",
       "    }\n",
       "</style>\n",
       "<table border=\"1\" class=\"dataframe\">\n",
       "  <thead>\n",
       "    <tr style=\"text-align: right;\">\n",
       "      <th></th>\n",
       "      <th>waste_type</th>\n",
       "      <th>total_waste_recycled_tonne</th>\n",
       "      <th>year</th>\n",
       "      <th>material</th>\n",
       "      <th>energy_saved_tonne</th>\n",
       "      <th>energy_saved_total</th>\n",
       "    </tr>\n",
       "  </thead>\n",
       "  <tbody>\n",
       "    <tr>\n",
       "      <th>1</th>\n",
       "      <td>Plastic</td>\n",
       "      <td>57800.0</td>\n",
       "      <td>2015</td>\n",
       "      <td>Plastic</td>\n",
       "      <td>5774</td>\n",
       "      <td>3.337372e+08</td>\n",
       "    </tr>\n",
       "    <tr>\n",
       "      <th>52</th>\n",
       "      <td>Non-Ferrous Metal</td>\n",
       "      <td>160400.0</td>\n",
       "      <td>2015</td>\n",
       "      <td>Non-Ferrous Metal</td>\n",
       "      <td>14000</td>\n",
       "      <td>2.245600e+09</td>\n",
       "    </tr>\n",
       "    <tr>\n",
       "      <th>18</th>\n",
       "      <td>Glass</td>\n",
       "      <td>14600.0</td>\n",
       "      <td>2015</td>\n",
       "      <td>Glass</td>\n",
       "      <td>42</td>\n",
       "      <td>6.132000e+05</td>\n",
       "    </tr>\n",
       "    <tr>\n",
       "      <th>35</th>\n",
       "      <td>Ferrous Metal</td>\n",
       "      <td>1333300.0</td>\n",
       "      <td>2015</td>\n",
       "      <td>Ferrous Metal</td>\n",
       "      <td>642</td>\n",
       "      <td>8.559786e+08</td>\n",
       "    </tr>\n",
       "  </tbody>\n",
       "</table>\n",
       "</div>"
      ],
      "text/plain": [
       "           waste_type  total_waste_recycled_tonne  year           material  \\\n",
       "1             Plastic                     57800.0  2015            Plastic   \n",
       "52  Non-Ferrous Metal                    160400.0  2015  Non-Ferrous Metal   \n",
       "18              Glass                     14600.0  2015              Glass   \n",
       "35      Ferrous Metal                   1333300.0  2015      Ferrous Metal   \n",
       "\n",
       "    energy_saved_tonne  energy_saved_total  \n",
       "1                 5774        3.337372e+08  \n",
       "52               14000        2.245600e+09  \n",
       "18                  42        6.132000e+05  \n",
       "35                 642        8.559786e+08  "
      ]
     },
     "execution_count": 44,
     "metadata": {},
     "output_type": "execute_result"
    }
   ],
   "source": [
    "recycle_energy_2015"
   ]
  },
  {
   "cell_type": "code",
   "execution_count": 49,
   "metadata": {},
   "outputs": [
    {
     "data": {
      "image/png": "[encoded data removed]",
      "text/plain": [
       "<Figure size 432x288 with 1 Axes>"
      ]
     },
     "metadata": {},
     "output_type": "display_data"
    }
   ],
   "source": [
    "barr = plt.bar(recycle_energy_2015.waste_type, recycle_energy_2015.energy_saved_total)\n",
    "plt.yscale('log')\n",
    "plt.ylim(1,10**10)\n",
    "plt.xlabel('Material')\n",
    "plt.ylabel('Energy Saved (Kwh)')\n",
    "plt.title('Energy Saved in 2015')\n",
    "for bar in barr.patches:\n",
    "    plt.annotate(f'{bar.get_height():.1e}', (bar.get_x(),bar.get_height()**1.02))\n",
    "plt.show()"
   ]
  }
 ],
 "metadata": {
  "kernelspec": {
   "display_name": "Python 3 (ipykernel)",
   "language": "python",
   "name": "python3"
  },
  "language_info": {
   "codemirror_mode": {
    "name": "ipython",
    "version": 3
   },
   "file_extension": ".py",
   "mimetype": "text/x-python",
   "name": "python",
   "nbconvert_exporter": "python",
   "pygments_lexer": "ipython3",
   "version": "3.8.10"
  }
 },
 "nbformat": 4,
 "nbformat_minor": 2
}
